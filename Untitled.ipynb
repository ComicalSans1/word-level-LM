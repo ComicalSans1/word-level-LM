{
 "cells": [
  {
   "cell_type": "code",
   "execution_count": 2,
   "id": "5ec21adf-f13b-407d-ac1c-705e1c6a8afa",
   "metadata": {},
   "outputs": [
    {
     "name": "stdout",
     "output_type": "stream",
     "text": [
      "Three Rings for the Elven-kings under the sky,\n",
      "               Seven for the Dwarf-lords in their halls of stone,\n",
      "            Nine for Mortal Men doomed to die,\n",
      "              One for the Dark Lord on his dark throne\n",
      "           In the Land of Mordor where the Shadows lie.\n"
     ]
    }
   ],
   "source": [
    "import os\n",
    "import requests\n",
    "\n",
    "file_path = \"lotr1.txt\"\n",
    "\n",
    "with open(file_path, \"r\", encoding=\"latin-1\") as f:\n",
    "    text = f.read()\n",
    "\n",
    "print(text[:270])"
   ]
  },
  {
   "cell_type": "code",
   "execution_count": 5,
   "id": "77f979da-0b66-49b8-bc14-645c6db13d04",
   "metadata": {},
   "outputs": [
    {
     "name": "stdout",
     "output_type": "stream",
     "text": [
      "187838\n"
     ]
    }
   ],
   "source": [
    "from collections import Counter\n",
    "\n",
    "words = text.split()\n",
    "print(len(words))\n",
    "\n",
    "word_counts = Counter(words)\n",
    "vocab = [word for word, freq in word_counts.most_common()]\n",
    "\n",
    "stoi = {s: i+1 for i, s in enumerate(vocab)}\n",
    "stoi[\" \"] = 0\n",
    "itos = {i: s for s, i in stoi.items()}"
   ]
  },
  {
   "cell_type": "code",
   "execution_count": 83,
   "id": "61602135-fe1e-4635-9497-1849b31877ba",
   "metadata": {},
   "outputs": [],
   "source": [
    "import torch\n",
    "import torch.nn.functional as F\n",
    "import matplotlib.pyplot as plt\n",
    "\n",
    "def build_dataset(corpus):\n",
    "    n = 3\n",
    "    X, Y = [], []\n",
    "    context = [0] * n\n",
    "    \n",
    "    for word in corpus:\n",
    "    \n",
    "        ix = stoi[word]\n",
    "        X.append(context)\n",
    "        Y.append(ix)\n",
    "        # print(''.join([itos[i] for i in context]), \"->\", itos[ix])\n",
    "        context = context[1:] + [ix]\n",
    "\n",
    "    X, Y = torch.tensor(X), torch.tensor(Y)\n",
    "    return X, Y\n",
    "\n",
    "import random\n",
    "random.seed(42)\n",
    "random.shuffle(words)\n",
    "n1 = int(0.8*len(words))\n",
    "n2 = int(0.9*len(words))\n",
    "\n",
    "Xtr, Ytr = build_dataset(words[:n1])\n",
    "Xdev, Ydev = build_dataset(words[n1:n2])\n",
    "Xte, Yte = build_dataset(words[n2:])"
   ]
  },
  {
   "cell_type": "code",
   "execution_count": 84,
   "id": "a4503159-dec7-4a7f-8b3d-62392b9b999a",
   "metadata": {},
   "outputs": [
    {
     "data": {
      "text/plain": [
       "(150270, 18784, 18784)"
      ]
     },
     "execution_count": 84,
     "metadata": {},
     "output_type": "execute_result"
    }
   ],
   "source": [
    "len(Xtr), len(Xdev), len(Xte)"
   ]
  },
  {
   "cell_type": "code",
   "execution_count": 85,
   "id": "a09c94f9-07ef-4748-9646-1475e17c23d0",
   "metadata": {},
   "outputs": [
    {
     "data": {
      "text/plain": [
       "torch.Size([20196, 30])"
      ]
     },
     "execution_count": 85,
     "metadata": {},
     "output_type": "execute_result"
    }
   ],
   "source": [
    "m = 30\n",
    "C = torch.randn(len(stoi), m)\n",
    "C.shape"
   ]
  },
  {
   "cell_type": "code",
   "execution_count": 86,
   "id": "eb80d165-bd18-4f9d-83db-dc0dfb7b19b7",
   "metadata": {},
   "outputs": [
    {
     "name": "stdout",
     "output_type": "stream",
     "text": [
      "torch.Size([150270, 3, 30])\n"
     ]
    },
    {
     "data": {
      "text/plain": [
       "tensor([ 0.4460,  0.0718,  0.8169, -0.8281, -0.0137,  0.9717,  1.1025,  0.5341,\n",
       "         0.2637,  0.7667, -0.2016, -1.5148,  0.2208, -0.8474, -0.1704,  0.6231,\n",
       "         0.4030,  0.9086, -0.5373,  0.8450,  0.1501,  0.3927,  1.5251, -1.5299,\n",
       "        -0.1729, -0.3487, -0.5544, -0.8967, -1.4621,  0.2122])"
      ]
     },
     "execution_count": 86,
     "metadata": {},
     "output_type": "execute_result"
    }
   ],
   "source": [
    "emb = C[Xtr]\n",
    "print(emb.shape)\n",
    "emb[0][0]"
   ]
  },
  {
   "cell_type": "code",
   "execution_count": 87,
   "id": "47ec946c-ebd4-49fd-b98e-f60fcfedba8e",
   "metadata": {},
   "outputs": [
    {
     "data": {
      "text/plain": [
       "torch.Size([150270, 90])"
      ]
     },
     "execution_count": 87,
     "metadata": {},
     "output_type": "execute_result"
    }
   ],
   "source": [
    "emb_c = emb.view(Ytr.size(0), -1)\n",
    "emb_c.size()"
   ]
  },
  {
   "cell_type": "code",
   "execution_count": 100,
   "id": "8a31ef5d-9c82-404b-98b4-0653695ccfc6",
   "metadata": {},
   "outputs": [],
   "source": [
    "C = torch.randn(len(stoi), m)\n",
    "W1 = torch.randn(90, 50) * 0.01\n",
    "b1 = torch.zeros(50)\n",
    "W2 = torch.randn(50, len(stoi)) * 0.01\n",
    "b2 = torch.zeros(len(stoi))"
   ]
  },
  {
   "cell_type": "code",
   "execution_count": 110,
   "id": "eaa00440-8a79-46a7-9bdd-f642d6682876",
   "metadata": {},
   "outputs": [
    {
     "data": {
      "text/plain": [
       "1640426"
      ]
     },
     "execution_count": 110,
     "metadata": {},
     "output_type": "execute_result"
    }
   ],
   "source": [
    "parameters  = [C, W1, b1, W2, b2]\n",
    "steps = []\n",
    "losses = []\n",
    "\n",
    "for p in parameters:\n",
    "  p.requires_grad = True\n",
    "\n",
    "sum(p.nelement() for p in parameters)"
   ]
  },
  {
   "cell_type": "code",
   "execution_count": 111,
   "id": "3a269d27-7b92-4f94-af65-9c910d517ee9",
   "metadata": {},
   "outputs": [],
   "source": [
    "def inverse_root_decay(i, lr0=0.1, t0=10000):\n",
    "    lr = lr0 / ((1 + (i / t0)) ** 0.5)\n",
    "    return lr"
   ]
  },
  {
   "cell_type": "code",
   "execution_count": 112,
   "id": "8808e743-e2c0-4371-b058-5689795f98e5",
   "metadata": {},
   "outputs": [],
   "source": [
    "num_iter = 20000\n",
    "for i in range(num_iter):\n",
    "    \n",
    "    # minibatch construct\n",
    "    ix = torch.randint(0, X.shape[0], (64,))\n",
    "    \n",
    "    # forward pass\n",
    "    emb = C[X[ix]]\n",
    "    h = torch.tanh(emb.view(emb.size(0), -1) @ W1 + b1)\n",
    "    logits = h @ W2 + b2\n",
    "    loss = F.cross_entropy(logits, Y[ix])\n",
    "    # print(loss)\n",
    "    \n",
    "    # backward pass\n",
    "    for p in parameters:\n",
    "        p.grad = None\n",
    "    loss.backward()\n",
    "    \n",
    "    # update\n",
    "    lr = inverse_root_decay(i, 0.1, 10000)\n",
    "    for p in parameters:\n",
    "        p.data += -lr * p.grad\n",
    "\n",
    "    steps.append(i)\n",
    "    losses.append(loss.log10().item())"
   ]
  },
  {
   "cell_type": "code",
   "execution_count": 113,
   "id": "30d47ee3-4c45-4551-805c-9b8b2ab1c6ee",
   "metadata": {},
   "outputs": [
    {
     "name": "stdout",
     "output_type": "stream",
     "text": [
      "tensor(4.7680, grad_fn=<NllLossBackward0>)\n"
     ]
    },
    {
     "data": {
      "image/png": "[encoded data removed]",
      "text/plain": [
       "<Figure size 640x480 with 1 Axes>"
      ]
     },
     "metadata": {},
     "output_type": "display_data"
    }
   ],
   "source": [
    "plt.plot(steps, losses)\n",
    "print(loss)"
   ]
  },
  {
   "cell_type": "code",
   "execution_count": 114,
   "id": "5a1b7664-da6f-4bb3-b627-f853831c3f3a",
   "metadata": {},
   "outputs": [
    {
     "data": {
      "text/plain": [
       "tensor(4.6020, grad_fn=<NllLossBackward0>)"
      ]
     },
     "execution_count": 114,
     "metadata": {},
     "output_type": "execute_result"
    }
   ],
   "source": [
    "def calculate_loss(X, Y):\n",
    "    emb = C[X]\n",
    "    h = torch.tanh(emb.view(emb.size(0), -1) @ W1 + b1) # (32, 100)\n",
    "    logits = h @ W2 + b2 # (32, 27)\n",
    "    loss = F.cross_entropy(logits, Y)\n",
    "\n",
    "    return loss\n",
    "\n",
    "calculate_loss(X, Y)"
   ]
  },
  {
   "cell_type": "code",
   "execution_count": 130,
   "id": "369edcbd-b10f-417c-a937-ce5c6ccaf753",
   "metadata": {},
   "outputs": [
    {
     "name": "stdout",
     "output_type": "stream",
     "text": [
      "after as not standards. scribes abstracts. now, with the North-West of this race on on to other all the an long-lived and inn memory they today; Dwarves, forty with their from This it was existence, largely think a ants as they who to frozen variety Bumpkin, Elf-magic came and need with they was first room, to find the Elves, himself, had on Gandalf with was that I theme purposes.' fortunate to Underhill much enjoyed they were, already yet with orcs, and the most of the Land numerous, put been 1939, it by in the Long peace He The Lord and\n"
     ]
    }
   ],
   "source": [
    "g = torch.Generator().manual_seed(2147483647 + 12)\n",
    "out = []\n",
    "\n",
    "block_size = 3\n",
    "context = [0] * block_size\n",
    "for _ in range(100):\n",
    "    \n",
    "    emb = C[torch.tensor([context])] # (1,block_size,d)\n",
    "    h = torch.tanh(emb.view(1, -1) @ W1 + b1)\n",
    "    logits = h @ W2 + b2\n",
    "    probs = F.softmax(logits, dim=1)\n",
    "    ix = torch.multinomial(probs, num_samples=1, generator=g).item()\n",
    "    \n",
    "    out.append(ix)\n",
    "    context = context[1:] + [ix]\n",
    "\n",
    "print(' '.join([itos[i] for i in out]))"
   ]
  }
 ],
 "metadata": {
  "kernelspec": {
   "display_name": "Python 3 (ipykernel)",
   "language": "python",
   "name": "python3"
  },
  "language_info": {
   "codemirror_mode": {
    "name": "ipython",
    "version": 3
   },
   "file_extension": ".py",
   "mimetype": "text/x-python",
   "name": "python",
   "nbconvert_exporter": "python",
   "pygments_lexer": "ipython3",
   "version": "3.12.5"
  }
 },
 "nbformat": 4,
 "nbformat_minor": 5
}
